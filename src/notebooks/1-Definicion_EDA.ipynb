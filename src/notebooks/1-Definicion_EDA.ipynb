{
 "cells": [
  {
   "cell_type": "markdown",
   "metadata": {},
   "source": [
    "# Conseguir un C2 en moabita"
   ]
  },
  {
   "cell_type": "markdown",
   "metadata": {},
   "source": [
    "### La estela de Mesa\n",
    "\n",
    "La estela de Mesa es el (casi) único texto que se conserva en lengua moabita, una lengua semítica muy cercana al hebreo bíblico que se habló en el reino de Moab, en la actual Jordania sobre los siglos X-VIII a.e.c. Se descubrió y descifró en el siglo XIX y en la actualidad se encuentra en el museo del Louvre.\n",
    "En este trabajo se analizarán las inscripciones (en alfabeto fenicio), sus frecuencias, raíces, etc.\n",
    "Si se traduce, se puede añadir al currículum la línea de C2 en esta lengua, dado que es lo único que se puede leer en moabita en la actualidad.\n",
    "\n",
    "![Imagen|50](./img/estela_mesa.jfif)"
   ]
  },
  {
   "cell_type": "markdown",
   "metadata": {},
   "source": [
    "### HIPÓTESIS"
   ]
  },
  {
   "cell_type": "markdown",
   "metadata": {},
   "source": [
    "Estas son las hipótesis que quiero comprobar:\n",
    "- Las letras en protofenicio tienen la misma frecuencia que las hebreas y se podría descifrar el alfabeto solo con frecuencias.\n",
    "- El lenguaje estela cumple la ley de Zipf (puede que no lo haga debido al bajo número de palabras).\n",
    "- Sigue estructura de lengua semítica (raíces trilíteras, preposiciones y conjunciones enclíticas, ¿estado constructo?).\n",
    "- ¿Se puede descifrar algo con ayuda de un diccionario de hebreo antiguo? Comprobar raíces de pronombres, números y palabras más utilizadas."
   ]
  },
  {
   "cell_type": "markdown",
   "metadata": {},
   "source": [
    "## OBTENCIÓN DE LOS DATOS"
   ]
  },
  {
   "cell_type": "markdown",
   "metadata": {},
   "source": [
    "### DATASETS Y FUENTES ALTERNATIVAS DE DATOS"
   ]
  },
  {
   "cell_type": "markdown",
   "metadata": {},
   "source": [
    "Voy a trabajar proncipalmente con dos datasets: uno con el texto de la propia estela y otro que contiene todas las palabras del Antiguo Testamento en hebreo y arameo, así como sus frecuencias, raíces y significado."
   ]
  },
  {
   "cell_type": "code",
   "execution_count": 1,
   "metadata": {},
   "outputs": [],
   "source": [
    "import pandas as pd\n",
    "from bs4 import BeautifulSoup as bs\n",
    "import requests"
   ]
  },
  {
   "cell_type": "markdown",
   "metadata": {},
   "source": [
    "Este dataset contiene todas las palabras del Antiguo Testamento:"
   ]
  },
  {
   "cell_type": "code",
   "execution_count": 2,
   "metadata": {},
   "outputs": [
    {
     "data": {
      "text/html": [
       "<div>\n",
       "<style scoped>\n",
       "    .dataframe tbody tr th:only-of-type {\n",
       "        vertical-align: middle;\n",
       "    }\n",
       "\n",
       "    .dataframe tbody tr th {\n",
       "        vertical-align: top;\n",
       "    }\n",
       "\n",
       "    .dataframe thead th {\n",
       "        text-align: right;\n",
       "    }\n",
       "</style>\n",
       "<table border=\"1\" class=\"dataframe\">\n",
       "  <thead>\n",
       "    <tr style=\"text-align: right;\">\n",
       "      <th></th>\n",
       "      <th>strongs_number</th>\n",
       "      <th>word</th>\n",
       "      <th>gloss</th>\n",
       "      <th>language</th>\n",
       "      <th>part_of_speech</th>\n",
       "      <th>gender</th>\n",
       "      <th>occurrences</th>\n",
       "      <th>first_occurrence</th>\n",
       "      <th>root_word</th>\n",
       "      <th>word_root_occurrence</th>\n",
       "      <th>first_root_number</th>\n",
       "      <th>first_root_hebrew</th>\n",
       "      <th>second_root_number</th>\n",
       "      <th>second_root_hebrew</th>\n",
       "      <th>third_root_number</th>\n",
       "      <th>third_root_hebrew</th>\n",
       "    </tr>\n",
       "  </thead>\n",
       "  <tbody>\n",
       "    <tr>\n",
       "      <th>0</th>\n",
       "      <td>1</td>\n",
       "      <td>אָב</td>\n",
       "      <td>ab (awb) n-m.\\n1. father\\n{in a literal and im...</td>\n",
       "      <td>H</td>\n",
       "      <td>noun</td>\n",
       "      <td>masculine</td>\n",
       "      <td>1210</td>\n",
       "      <td>GEN 2:24</td>\n",
       "      <td>אב</td>\n",
       "      <td>1414.0</td>\n",
       "      <td>NaN</td>\n",
       "      <td>NaN</td>\n",
       "      <td>NaN</td>\n",
       "      <td>NaN</td>\n",
       "      <td>NaN</td>\n",
       "      <td>NaN</td>\n",
       "    </tr>\n",
       "    <tr>\n",
       "      <th>1</th>\n",
       "      <td>2</td>\n",
       "      <td>אַב</td>\n",
       "      <td>ab (ab) n-m.\\n1. father\\n[(Aramaic) correspond...</td>\n",
       "      <td>A</td>\n",
       "      <td>noun</td>\n",
       "      <td>masculine</td>\n",
       "      <td>9</td>\n",
       "      <td>EZK 4:15</td>\n",
       "      <td>אב</td>\n",
       "      <td>1414.0</td>\n",
       "      <td>1.0</td>\n",
       "      <td>אב</td>\n",
       "      <td>NaN</td>\n",
       "      <td>NaN</td>\n",
       "      <td>NaN</td>\n",
       "      <td>NaN</td>\n",
       "    </tr>\n",
       "    <tr>\n",
       "      <th>2</th>\n",
       "      <td>3</td>\n",
       "      <td>אֵב</td>\n",
       "      <td>'eb (abe) n-m.\\n1. a green plant\\n[from the s...</td>\n",
       "      <td>H</td>\n",
       "      <td>noun</td>\n",
       "      <td>masculine</td>\n",
       "      <td>2</td>\n",
       "      <td>JOB 8:12</td>\n",
       "      <td>אבב</td>\n",
       "      <td>13.0</td>\n",
       "      <td>24.0</td>\n",
       "      <td>אביב</td>\n",
       "      <td>NaN</td>\n",
       "      <td>NaN</td>\n",
       "      <td>NaN</td>\n",
       "      <td>NaN</td>\n",
       "    </tr>\n",
       "    <tr>\n",
       "      <th>3</th>\n",
       "      <td>4</td>\n",
       "      <td>אֵב</td>\n",
       "      <td>eb (abe) n-m.\\n1. fruit\\n[(Aramaic) correspond...</td>\n",
       "      <td>A</td>\n",
       "      <td>noun</td>\n",
       "      <td>masculine</td>\n",
       "      <td>3</td>\n",
       "      <td>DAN 4:12</td>\n",
       "      <td>אבב</td>\n",
       "      <td>13.0</td>\n",
       "      <td>3.0</td>\n",
       "      <td>אב</td>\n",
       "      <td>NaN</td>\n",
       "      <td>NaN</td>\n",
       "      <td>NaN</td>\n",
       "      <td>NaN</td>\n",
       "    </tr>\n",
       "    <tr>\n",
       "      <th>4</th>\n",
       "      <td>5</td>\n",
       "      <td>אֲבַגתָּא</td>\n",
       "      <td>Abagtha' (ab-ag-thaw') n/p.\\n1. Abagtha, a eun...</td>\n",
       "      <td>H</td>\n",
       "      <td>noun proper</td>\n",
       "      <td>masculine</td>\n",
       "      <td>1</td>\n",
       "      <td>EST 1:10</td>\n",
       "      <td>NaN</td>\n",
       "      <td>NaN</td>\n",
       "      <td>NaN</td>\n",
       "      <td>NaN</td>\n",
       "      <td>NaN</td>\n",
       "      <td>NaN</td>\n",
       "      <td>NaN</td>\n",
       "      <td>NaN</td>\n",
       "    </tr>\n",
       "  </tbody>\n",
       "</table>\n",
       "</div>"
      ],
      "text/plain": [
       "   strongs_number       word  \\\n",
       "0               1        אָב   \n",
       "1               2        אַב   \n",
       "2               3        אֵב   \n",
       "3               4        אֵב   \n",
       "4               5  אֲבַגתָּא   \n",
       "\n",
       "                                               gloss language part_of_speech  \\\n",
       "0  ab (awb) n-m.\\n1. father\\n{in a literal and im...        H           noun   \n",
       "1  ab (ab) n-m.\\n1. father\\n[(Aramaic) correspond...        A           noun   \n",
       "2   'eb (abe) n-m.\\n1. a green plant\\n[from the s...        H           noun   \n",
       "3  eb (abe) n-m.\\n1. fruit\\n[(Aramaic) correspond...        A           noun   \n",
       "4  Abagtha' (ab-ag-thaw') n/p.\\n1. Abagtha, a eun...        H    noun proper   \n",
       "\n",
       "      gender  occurrences first_occurrence root_word  word_root_occurrence  \\\n",
       "0  masculine         1210         GEN 2:24        אב                1414.0   \n",
       "1  masculine            9         EZK 4:15        אב                1414.0   \n",
       "2  masculine            2         JOB 8:12       אבב                  13.0   \n",
       "3  masculine            3         DAN 4:12       אבב                  13.0   \n",
       "4  masculine            1         EST 1:10       NaN                   NaN   \n",
       "\n",
       "   first_root_number first_root_hebrew  second_root_number second_root_hebrew  \\\n",
       "0                NaN               NaN                 NaN                NaN   \n",
       "1                1.0                אב                 NaN                NaN   \n",
       "2               24.0              אביב                 NaN                NaN   \n",
       "3                3.0                אב                 NaN                NaN   \n",
       "4                NaN               NaN                 NaN                NaN   \n",
       "\n",
       "   third_root_number third_root_hebrew  \n",
       "0                NaN               NaN  \n",
       "1                NaN               NaN  \n",
       "2                NaN               NaN  \n",
       "3                NaN               NaN  \n",
       "4                NaN               NaN  "
      ]
     },
     "execution_count": 2,
     "metadata": {},
     "output_type": "execute_result"
    }
   ],
   "source": [
    "# Data frame de frecuencias de palabras en el Antiguo Testamento (hebreo y arameo)\n",
    "# Hay muchos csv de hebreo bíblico, quizás use alguno más. Este es especialmente interesante por la columna root_word\n",
    "biblia = pd.read_excel('https://query.data.world/s/3ljivu4i6mi4qbhw3plofrb4nztdkg?dws=00000')\n",
    "biblia.head()"
   ]
  },
  {
   "cell_type": "markdown",
   "metadata": {},
   "source": [
    "Texto de la Estela de Mesa extraído de la página de Wikipedia:"
   ]
  },
  {
   "cell_type": "code",
   "execution_count": 3,
   "metadata": {},
   "outputs": [
    {
     "name": "stdout",
     "output_type": "stream",
     "text": [
      "<Response [200]>\n"
     ]
    }
   ],
   "source": [
    "# Extracción del texto de la estela con webscraping:\n",
    "\n",
    "enlace ='https://en.wikipedia.org/wiki/Mesha_Stele'\n",
    "respuesta = requests.get(enlace)\n",
    "print(respuesta)"
   ]
  },
  {
   "cell_type": "code",
   "execution_count": 4,
   "metadata": {},
   "outputs": [
    {
     "data": {
      "text/html": [
       "<div>\n",
       "<style scoped>\n",
       "    .dataframe tbody tr th:only-of-type {\n",
       "        vertical-align: middle;\n",
       "    }\n",
       "\n",
       "    .dataframe tbody tr th {\n",
       "        vertical-align: top;\n",
       "    }\n",
       "\n",
       "    .dataframe thead th {\n",
       "        text-align: right;\n",
       "    }\n",
       "</style>\n",
       "<table border=\"1\" class=\"dataframe\">\n",
       "  <thead>\n",
       "    <tr style=\"text-align: right;\">\n",
       "      <th></th>\n",
       "      <th>Texto</th>\n",
       "      <th>línea</th>\n",
       "    </tr>\n",
       "  </thead>\n",
       "  <tbody>\n",
       "    <tr>\n",
       "      <th>0</th>\n",
       "      <td>𐤀𐤍𐤊 𐤟 𐤌𐤔𐤏 𐤟 𐤁𐤍 𐤟 𐤊𐤌𐤔 ? ? 𐤌𐤋𐤊 𐤟 𐤌𐤀𐤁 𐤟 𐤄𐤃</td>\n",
       "      <td>1</td>\n",
       "    </tr>\n",
       "    <tr>\n",
       "      <th>1</th>\n",
       "      <td>𐤉𐤁𐤍𐤉 | 𐤀𐤁𐤉 𐤟 𐤌𐤋𐤊 𐤟 𐤏𐤋 𐤟 𐤌𐤀𐤁 𐤟 𐤔𐤋𐤔𐤍 𐤟 𐤔𐤕 𐤟 𐤅𐤀𐤍𐤊...</td>\n",
       "      <td>2</td>\n",
       "    </tr>\n",
       "    <tr>\n",
       "      <th>2</th>\n",
       "      <td>[𐤕𐤉 𐤟 𐤀𐤇𐤓 𐤟 𐤀𐤁𐤉 | 𐤅𐤀𐤏𐤔 𐤟 𐤄𐤁𐤌𐤕 𐤟 𐤆𐤀𐤕 𐤟 𐤋𐤊𐤌𐤔 𐤟 𐤁...</td>\n",
       "      <td>3</td>\n",
       "    </tr>\n",
       "    <tr>\n",
       "      <th>3</th>\n",
       "      <td>𐤔𐤏 𐤟 𐤊𐤉 𐤟 𐤄𐤔𐤏𐤍𐤉 𐤟 𐤌𐤊𐤋 𐤟 𐤄𐤔𐤋𐤊𐤍 𐤟 𐤅𐤊𐤉 𐤟 𐤄𐤓𐤀𐤍𐤉 𐤟 ...</td>\n",
       "      <td>4</td>\n",
       "    </tr>\n",
       "    <tr>\n",
       "      <th>4</th>\n",
       "      <td>𐤉 𐤟 𐤌𐤋𐤊 𐤟 𐤉𐤔𐤓𐤀𐤋 𐤟 𐤅𐤉𐤏𐤍𐤅 𐤟 𐤀𐤕 𐤟 𐤌𐤀𐤁 𐤟 𐤉𐤌𐤍 𐤟 𐤓𐤁𐤍...</td>\n",
       "      <td>5</td>\n",
       "    </tr>\n",
       "  </tbody>\n",
       "</table>\n",
       "</div>"
      ],
      "text/plain": [
       "                                               Texto  línea\n",
       "0            𐤀𐤍𐤊 𐤟 𐤌𐤔𐤏 𐤟 𐤁𐤍 𐤟 𐤊𐤌𐤔 ? ? 𐤌𐤋𐤊 𐤟 𐤌𐤀𐤁 𐤟 𐤄𐤃      1\n",
       "1  𐤉𐤁𐤍𐤉 | 𐤀𐤁𐤉 𐤟 𐤌𐤋𐤊 𐤟 𐤏𐤋 𐤟 𐤌𐤀𐤁 𐤟 𐤔𐤋𐤔𐤍 𐤟 𐤔𐤕 𐤟 𐤅𐤀𐤍𐤊...      2\n",
       "2  [𐤕𐤉 𐤟 𐤀𐤇𐤓 𐤟 𐤀𐤁𐤉 | 𐤅𐤀𐤏𐤔 𐤟 𐤄𐤁𐤌𐤕 𐤟 𐤆𐤀𐤕 𐤟 𐤋𐤊𐤌𐤔 𐤟 𐤁...      3\n",
       "3  𐤔𐤏 𐤟 𐤊𐤉 𐤟 𐤄𐤔𐤏𐤍𐤉 𐤟 𐤌𐤊𐤋 𐤟 𐤄𐤔𐤋𐤊𐤍 𐤟 𐤅𐤊𐤉 𐤟 𐤄𐤓𐤀𐤍𐤉 𐤟 ...      4\n",
       "4  𐤉 𐤟 𐤌𐤋𐤊 𐤟 𐤉𐤔𐤓𐤀𐤋 𐤟 𐤅𐤉𐤏𐤍𐤅 𐤟 𐤀𐤕 𐤟 𐤌𐤀𐤁 𐤟 𐤉𐤌𐤍 𐤟 𐤓𐤁𐤍...      5"
      ]
     },
     "execution_count": 4,
     "metadata": {},
     "output_type": "execute_result"
    }
   ],
   "source": [
    "soup = bs(respuesta.content, 'html.parser')\n",
    "texto_por_linea = soup.find_all('span', class_=\"script-phoenician\")\n",
    "mesa = pd.DataFrame({'Texto':[i.get_text() for i in texto_por_linea]})\n",
    "mesa['línea'] = mesa.index+1\n",
    "mesa.head()"
   ]
  },
  {
   "cell_type": "code",
   "execution_count": 5,
   "metadata": {},
   "outputs": [
    {
     "data": {
      "text/html": [
       "<div>\n",
       "<style scoped>\n",
       "    .dataframe tbody tr th:only-of-type {\n",
       "        vertical-align: middle;\n",
       "    }\n",
       "\n",
       "    .dataframe tbody tr th {\n",
       "        vertical-align: top;\n",
       "    }\n",
       "\n",
       "    .dataframe thead th {\n",
       "        text-align: right;\n",
       "    }\n",
       "</style>\n",
       "<table border=\"1\" class=\"dataframe\">\n",
       "  <thead>\n",
       "    <tr style=\"text-align: right;\">\n",
       "      <th></th>\n",
       "      <th>Texto</th>\n",
       "      <th>línea</th>\n",
       "    </tr>\n",
       "  </thead>\n",
       "  <tbody>\n",
       "    <tr>\n",
       "      <th>29</th>\n",
       "      <td>𐤉 𐤟 [𐤀𐤕 𐤟] 𐤌𐤄𐤃[𐤁]𐤀 𐤟 𐤅𐤁𐤕 𐤟 𐤃𐤁𐤋𐤕𐤍  | 𐤅𐤁𐤕 𐤟 𐤁𐤏𐤋𐤌...</td>\n",
       "      <td>30</td>\n",
       "    </tr>\n",
       "    <tr>\n",
       "      <th>30</th>\n",
       "      <td>𐤑𐤀𐤍 𐤟 𐤄𐤀𐤓𐤑 | 𐤅𐤇𐤅𐤓𐤍𐤍 𐤟 𐤉𐤔𐤁 𐤟 𐤁𐤄 𐤟 𐤁𐤕 𐤟 𐤅𐤒 𐤟 𐤀𐤔....</td>\n",
       "      <td>31</td>\n",
       "    </tr>\n",
       "    <tr>\n",
       "      <th>31</th>\n",
       "      <td>𐤅𐤉𐤀𐤌𐤓 𐤟 𐤋𐤉 𐤟 𐤊𐤌𐤔 𐤟 𐤓𐤃 𐤟 𐤄𐤋𐤕𐤇𐤌 𐤟 𐤁𐤇𐤅𐤓𐤍𐤍 | 𐤅𐤀𐤓𐤃....</td>\n",
       "      <td>32</td>\n",
       "    </tr>\n",
       "    <tr>\n",
       "      <th>32</th>\n",
       "      <td>𐤅𐤉𐤔]𐤁𐤄 𐤟 𐤊𐤌𐤔 𐤟 𐤁𐤉𐤌𐤉 𐤟 𐤅𐤏𐤋 𐤟 𐤓𐤄 𐤟 𐤌𐤔𐤌 𐤟 𐤏𐤔].....</td>\n",
       "      <td>33</td>\n",
       "    </tr>\n",
       "    <tr>\n",
       "      <th>33</th>\n",
       "      <td>𐤔𐤕 𐤟 𐤔𐤃𐤒 | 𐤅𐤀𐤍</td>\n",
       "      <td>34</td>\n",
       "    </tr>\n",
       "  </tbody>\n",
       "</table>\n",
       "</div>"
      ],
      "text/plain": [
       "                                                Texto  línea\n",
       "29  𐤉 𐤟 [𐤀𐤕 𐤟] 𐤌𐤄𐤃[𐤁]𐤀 𐤟 𐤅𐤁𐤕 𐤟 𐤃𐤁𐤋𐤕𐤍  | 𐤅𐤁𐤕 𐤟 𐤁𐤏𐤋𐤌...     30\n",
       "30  𐤑𐤀𐤍 𐤟 𐤄𐤀𐤓𐤑 | 𐤅𐤇𐤅𐤓𐤍𐤍 𐤟 𐤉𐤔𐤁 𐤟 𐤁𐤄 𐤟 𐤁𐤕 𐤟 𐤅𐤒 𐤟 𐤀𐤔....     31\n",
       "31  𐤅𐤉𐤀𐤌𐤓 𐤟 𐤋𐤉 𐤟 𐤊𐤌𐤔 𐤟 𐤓𐤃 𐤟 𐤄𐤋𐤕𐤇𐤌 𐤟 𐤁𐤇𐤅𐤓𐤍𐤍 | 𐤅𐤀𐤓𐤃....     32\n",
       "32    𐤅𐤉𐤔]𐤁𐤄 𐤟 𐤊𐤌𐤔 𐤟 𐤁𐤉𐤌𐤉 𐤟 𐤅𐤏𐤋 𐤟 𐤓𐤄 𐤟 𐤌𐤔𐤌 𐤟 𐤏𐤔].....     33\n",
       "33                                     𐤔𐤕 𐤟 𐤔𐤃𐤒 | 𐤅𐤀𐤍     34"
      ]
     },
     "execution_count": 5,
     "metadata": {},
     "output_type": "execute_result"
    }
   ],
   "source": [
    "mesa.tail()"
   ]
  },
  {
   "cell_type": "markdown",
   "metadata": {},
   "source": [
    "A este dataset hay que añadirle uno por frases y otro por palabras. La ventaja es que la propia estela separa las palabras con puntos y las frases con rayas verticales."
   ]
  },
  {
   "cell_type": "markdown",
   "metadata": {},
   "source": [
    "![Dibujo|50](./img/dibujo_mesa.png)   "
   ]
  }
 ],
 "metadata": {
  "kernelspec": {
   "display_name": "Python 3.7.4 64-bit",
   "language": "python",
   "name": "python3"
  },
  "language_info": {
   "codemirror_mode": {
    "name": "ipython",
    "version": 3
   },
   "file_extension": ".py",
   "mimetype": "text/x-python",
   "name": "python",
   "nbconvert_exporter": "python",
   "pygments_lexer": "ipython3",
   "version": "3.11.3"
  },
  "orig_nbformat": 4,
  "vscode": {
   "interpreter": {
    "hash": "90139cb9a825bf3d63f6f6704e828dbd1ff7edbd4d0c6e906a71235d6efc74af"
   }
  }
 },
 "nbformat": 4,
 "nbformat_minor": 2
}
